{
 "cells": [
  {
   "cell_type": "markdown",
   "metadata": {},
   "source": [
    "First off, let us import the required python modules with the following command:"
   ]
  },
  {
   "cell_type": "code",
   "execution_count": 1,
   "metadata": {},
   "outputs": [],
   "source": [
    "from cartesian_interface.pyci_all import *"
   ]
  },
  {
   "cell_type": "markdown",
   "metadata": {},
   "source": [
    "If errors occurred, maybe you forgot to include the CartesIO install path in your PYTHONPATH environment variable, \n",
    "such as:\n",
    "\n",
    "```bash\n",
    "export PYTHONPATH=$PYTHONPATH:/opt/xbot/lib/python2.7/dist-packages\n",
    "```"
   ]
  },
  {
   "cell_type": "markdown",
   "metadata": {},
   "source": [
    "In a separate terminal, run the provided example launch file:\n",
    "\n",
    "```bash\n",
    "mon launch cartesian_interface coman.launch gui:=true\n",
    "```\n",
    "Note: if you did not install rosmon (recommended, `sudo apt-get install ros-kinetic-rosmon`),\n",
    "you can use the standard roslaunch tool.\n",
    "\n",
    "On success, you should see the IIT Coman robot in RViz, with a marker on its left hand.\n",
    "\n",
    "You can now instantiate the CartesIO Python ROS Client, as follows\n"
   ]
  },
  {
   "cell_type": "code",
   "execution_count": 6,
   "metadata": {
    "scrolled": true
   },
   "outputs": [],
   "source": [
    "cli = pyci.CartesianInterfaceRos()"
   ]
  },
  {
   "cell_type": "code",
   "execution_count": null,
   "metadata": {},
   "outputs": [],
   "source": []
  }
 ],
 "metadata": {
  "kernelspec": {
   "display_name": "Python 2",
   "language": "python",
   "name": "python2"
  },
  "language_info": {
   "codemirror_mode": {
    "name": "ipython",
    "version": 2
   },
   "file_extension": ".py",
   "mimetype": "text/x-python",
   "name": "python",
   "nbconvert_exporter": "python",
   "pygments_lexer": "ipython2",
   "version": "2.7.12"
  }
 },
 "nbformat": 4,
 "nbformat_minor": 2
}
