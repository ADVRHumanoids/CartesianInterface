{
 "cells": [
  {
   "cell_type": "markdown",
   "metadata": {},
   "source": [
    "# CartesIO Python ROS Client\n",
    "## Setting up the system\n",
    "First off, let us import the required python modules with the following command:"
   ]
  },
  {
   "cell_type": "code",
   "execution_count": 1,
   "metadata": {},
   "outputs": [],
   "source": [
    "from cartesian_interface.pyci_all import *\n",
    "import numpy as np"
   ]
  },
  {
   "cell_type": "markdown",
   "metadata": {},
   "source": [
    "If errors occurred, maybe you forgot to include the CartesIO install path in your PYTHONPATH environment variable, \n",
    "such as:\n",
    "\n",
    "```bash\n",
    "export PYTHONPATH=$PYTHONPATH:/opt/xbot/lib/python2.7/dist-packages\n",
    "```"
   ]
  },
  {
   "cell_type": "markdown",
   "metadata": {},
   "source": [
    "In a separate terminal, run the provided example launch file:\n",
    "\n",
    "```bash\n",
    "mon launch cartesian_interface coman.launch gui:=true\n",
    "```\n",
    "Note: if you did not install rosmon (recommended, `sudo apt-get install ros-kinetic-rosmon`),\n",
    "you can use the standard roslaunch tool.\n",
    "\n",
    "On success, you should see the IIT Coman robot in RViz, with a marker on its left hand.\n",
    "\n",
    "## Retrieve the client object\n",
    "\n",
    "You can now instantiate the CartesIO Python ROS Client, as follows\n"
   ]
  },
  {
   "cell_type": "code",
   "execution_count": 2,
   "metadata": {
    "scrolled": true
   },
   "outputs": [],
   "source": [
    "cli = pyci.CartesianInterfaceRos()"
   ]
  },
  {
   "cell_type": "markdown",
   "metadata": {},
   "source": [
    "Some status information can be display by printing the returned object. You should see the roscpp node name where the client is running, plus a list of defined tasks."
   ]
  },
  {
   "cell_type": "code",
   "execution_count": 3,
   "metadata": {},
   "outputs": [
    {
     "name": "stdout",
     "output_type": "stream",
     "text": [
      "CartesianInterfaceRos running inside ROS node /cartesio_ros_1580477191691385308\n",
      "Defined tasks: \n",
      " - \u001b[1mleft_foot\u001b[0m\n",
      " - \u001b[1mright_foot\u001b[0m\n",
      " - \u001b[1mCom\u001b[0m\n",
      " - \u001b[1mleft_hand\u001b[0m\n",
      " - \u001b[1mright_hand\u001b[0m\n",
      " - \u001b[1mPostural\u001b[0m\n",
      " - \u001b[1mJointLimits\u001b[0m\n",
      " - \u001b[1mVelocityLimits\u001b[0m\n",
      "\n"
     ]
    }
   ],
   "source": [
    "print cli"
   ]
  },
  {
   "cell_type": "markdown",
   "metadata": {},
   "source": [
    "The same information can be retrieved programmatically with the `getTaskList` method, returning a list of defined task names."
   ]
  },
  {
   "cell_type": "code",
   "execution_count": 4,
   "metadata": {},
   "outputs": [
    {
     "data": {
      "text/plain": [
       "[u'left_foot',\n",
       " u'right_foot',\n",
       " u'Com',\n",
       " u'left_hand',\n",
       " u'right_hand',\n",
       " u'Postural',\n",
       " u'JointLimits',\n",
       " u'VelocityLimits']"
      ]
     },
     "execution_count": 4,
     "metadata": {},
     "output_type": "execute_result"
    }
   ],
   "source": [
    "cli.getTaskList()"
   ]
  },
  {
   "cell_type": "markdown",
   "metadata": {},
   "source": [
    "## Interact with a generic task\n",
    "Let us now focus on one specific task, say `left_hand`, and retrieve some information about it."
   ]
  },
  {
   "cell_type": "code",
   "execution_count": 5,
   "metadata": {},
   "outputs": [],
   "source": [
    "task_name = 'left_hand'\n",
    "larm = cli.getTask(task_name)"
   ]
  },
  {
   "cell_type": "markdown",
   "metadata": {},
   "source": [
    "We can now get some generic task information such as the type, the name, the lambda value, etc..."
   ]
  },
  {
   "cell_type": "code",
   "execution_count": 6,
   "metadata": {},
   "outputs": [
    {
     "name": "stdout",
     "output_type": "stream",
     "text": [
      "Task name is left_hand\n",
      "Task type is Cartesian\n",
      "Task activation state is ActivationState.Enabled\n",
      "Task size is 6\n",
      "Task lambda is 0.10000000149\n",
      "Task active indices are [0, 1, 2, 3, 4, 5]\n",
      "Task weight is: \n",
      "[[ 1.  0.  0.  0.  0.  0.]\n",
      " [ 0.  1.  0.  0.  0.  0.]\n",
      " [ 0.  0.  1.  0.  0.  0.]\n",
      " [ 0.  0.  0.  1.  0.  0.]\n",
      " [ 0.  0.  0.  0.  1.  0.]\n",
      " [ 0.  0.  0.  0.  0.  1.]]\n"
     ]
    }
   ],
   "source": [
    "print 'Task name is', larm.getName()\n",
    "print 'Task type is', larm.getType()\n",
    "print 'Task activation state is', larm.getActivationState()\n",
    "print 'Task size is', larm.getSize()\n",
    "print 'Task lambda is', larm.getLambda()\n",
    "print 'Task active indices are', larm.getIndices()\n",
    "print 'Task weight is: \\n', larm.getWeight()"
   ]
  },
  {
   "cell_type": "markdown",
   "metadata": {},
   "source": [
    "## Cartesian task API\n",
    "So far, this API is a generic one, applicable to all tasks regardless of their type (base class API).\n",
    "Since we know that out `right_hand` task is a `Cartesian` task, we can also have access to the `CartesianTask`\n",
    "specific API. \n",
    "\n",
    "In C++ this would require an explicit `dynamic_cast`. In python, we get **automatic down-casting**, as we can immediately check by printing the task Python type:"
   ]
  },
  {
   "cell_type": "code",
   "execution_count": 7,
   "metadata": {},
   "outputs": [
    {
     "name": "stdout",
     "output_type": "stream",
     "text": [
      "<class 'cartesian_interface.pyci.CartesianTaskRos'>\n"
     ]
    }
   ],
   "source": [
    "print type(larm)"
   ]
  },
  {
   "cell_type": "markdown",
   "metadata": {},
   "source": [
    "Let us get some `Cartesian`-specific information about the task:"
   ]
  },
  {
   "cell_type": "code",
   "execution_count": 8,
   "metadata": {},
   "outputs": [
    {
     "name": "stdout",
     "output_type": "stream",
     "text": [
      "Task distal link is LSoftHand\n",
      "Task base link is world\n",
      "Task control mode is ControlType.Position\n",
      "Task state is State.Online\n",
      "Task current reference is \n",
      "translation: [ 0.1386,  0.1769, 0.01112]\n",
      "rotation   : [0.0003863,   -0.4566,   -0.2843,     0.843]\n"
     ]
    }
   ],
   "source": [
    "print 'Task distal link is', larm.getDistalLink()\n",
    "print 'Task base link is', larm.getBaseLink()\n",
    "print 'Task control mode is', larm.getControlMode()\n",
    "print 'Task state is', larm.getTaskState()\n",
    "print 'Task current reference is \\n', larm.getPoseReference()[0] # [0] for pose, [1] for velocity\n"
   ]
  },
  {
   "cell_type": "markdown",
   "metadata": {},
   "source": [
    "### Sending references\n",
    "Let us now send a target pose to our task. We will tell the hand to go 0.1m forward in 3.0 seconds."
   ]
  },
  {
   "cell_type": "code",
   "execution_count": 9,
   "metadata": {},
   "outputs": [
    {
     "name": "stdout",
     "output_type": "stream",
     "text": [
      "translation: [ 0.1386,  0.1769, 0.01112]\n",
      "rotation   : [0.0003863,   -0.4566,   -0.2843,     0.843]\n"
     ]
    },
    {
     "data": {
      "text/plain": [
       "True"
      ]
     },
     "execution_count": 9,
     "metadata": {},
     "output_type": "execute_result"
    }
   ],
   "source": [
    "cli.update() # to update the task curren pose reference\n",
    "Tref, _, _ = larm.getPoseReference() # just return the pose ref, skip vel & acc\n",
    "print Tref\n",
    "Tref.translation_ref()[0] += 0.1\n",
    "time = 3.0\n",
    "larm.setPoseTarget(Tref, time)"
   ]
  },
  {
   "cell_type": "markdown",
   "metadata": {},
   "source": [
    "The robot in Rviz should move accordingly."
   ]
  },
  {
   "cell_type": "code",
   "execution_count": 10,
   "metadata": {},
   "outputs": [
    {
     "data": {
      "text/plain": [
       "u'world'"
      ]
     },
     "execution_count": 10,
     "metadata": {},
     "output_type": "execute_result"
    }
   ],
   "source": [
    "larm.getBaseLink()"
   ]
  },
  {
   "cell_type": "code",
   "execution_count": null,
   "metadata": {},
   "outputs": [],
   "source": []
  }
 ],
 "metadata": {
  "kernelspec": {
   "display_name": "Python 2",
   "language": "python",
   "name": "python2"
  },
  "language_info": {
   "codemirror_mode": {
    "name": "ipython",
    "version": 2
   },
   "file_extension": ".py",
   "mimetype": "text/x-python",
   "name": "python",
   "nbconvert_exporter": "python",
   "pygments_lexer": "ipython2",
   "version": "2.7.12"
  }
 },
 "nbformat": 4,
 "nbformat_minor": 2
}
