{
 "cells": [
  {
   "cell_type": "markdown",
   "metadata": {},
   "source": [
    "# CartesIO Python ROS Client\n",
    "## Setting up the system\n",
    "First off, let us import the required python modules with the following command:"
   ]
  },
  {
   "cell_type": "code",
   "execution_count": null,
   "metadata": {},
   "outputs": [],
   "source": [
    "from cartesian_interface.pyci_all import *\n",
    "import numpy as np"
   ]
  },
  {
   "cell_type": "markdown",
   "metadata": {},
   "source": [
    "If errors occurred, maybe you forgot to include the CartesIO install path in your PYTHONPATH environment variable, \n",
    "such as:\n",
    "\n",
    "```bash\n",
    "export PYTHONPATH=$PYTHONPATH:/my/install/space/lib/python2.7/dist-packages\n",
    "```"
   ]
  },
  {
   "cell_type": "markdown",
   "metadata": {},
   "source": [
    "In a separate terminal, run the provided example launch file:\n",
    "\n",
    "```bash\n",
    "mon launch cartesian_interface coman.launch gui:=true\n",
    "```\n",
    "\n",
    "Note 1: you will need a roscore instance running in some other terminal\n",
    "\n",
    "Note 2: if you did not install rosmon (recommended, `sudo apt-get install ros-kinetic-rosmon`),\n",
    "you can use the standard roslaunch tool.\n",
    "\n",
    "On success, you should see the IIT Coman robot in RViz.\n",
    "\n",
    "## Retrieve the client object\n",
    "\n",
    "You can now instantiate the CartesIO Python ROS Client, as follows\n"
   ]
  },
  {
   "cell_type": "code",
   "execution_count": null,
   "metadata": {
    "scrolled": true
   },
   "outputs": [],
   "source": [
    "cli = pyci.CartesianInterfaceRos()"
   ]
  },
  {
   "cell_type": "markdown",
   "metadata": {},
   "source": [
    "Some status information can be display by printing the returned object. You should see the roscpp node name where the client is running, plus a list of defined tasks."
   ]
  },
  {
   "cell_type": "code",
   "execution_count": null,
   "metadata": {},
   "outputs": [],
   "source": [
    "print cli"
   ]
  },
  {
   "cell_type": "markdown",
   "metadata": {},
   "source": [
    "The same information can be retrieved programmatically with the `getTaskList` method, returning a list of defined task names."
   ]
  },
  {
   "cell_type": "code",
   "execution_count": null,
   "metadata": {},
   "outputs": [],
   "source": [
    "cli.getTaskList()"
   ]
  },
  {
   "cell_type": "markdown",
   "metadata": {},
   "source": [
    "## Interact with a generic task\n",
    "Let us now focus on one specific task, say `left_hand`, and retrieve some information about it."
   ]
  },
  {
   "cell_type": "code",
   "execution_count": null,
   "metadata": {},
   "outputs": [],
   "source": [
    "task_name = 'left_hand'\n",
    "larm = cli.getTask(task_name)"
   ]
  },
  {
   "cell_type": "markdown",
   "metadata": {},
   "source": [
    "We can now get some generic task information such as the type, the name, the lambda value, etc..."
   ]
  },
  {
   "cell_type": "code",
   "execution_count": null,
   "metadata": {},
   "outputs": [],
   "source": [
    "print 'Task name is', larm.getName()\n",
    "print 'Task type is', larm.getType()\n",
    "print 'Task activation state is', larm.getActivationState()\n",
    "print 'Task size is', larm.getSize()\n",
    "print 'Task lambda is', larm.getLambda()\n",
    "print 'Task active indices are', larm.getIndices()\n",
    "print 'Task weight is: \\n', larm.getWeight()"
   ]
  },
  {
   "cell_type": "markdown",
   "metadata": {},
   "source": [
    "## Cartesian task API\n",
    "So far, this API is a generic one, applicable to all tasks regardless of their type (base class API).\n",
    "Since we know that out `right_hand` task is a `Cartesian` task, we can also have access to the `CartesianTask`\n",
    "specific API. \n",
    "\n",
    "In C++ this would require an explicit `dynamic_cast`. In python, we get **automatic down-casting**, as we can immediately check by printing the task Python type:"
   ]
  },
  {
   "cell_type": "code",
   "execution_count": null,
   "metadata": {},
   "outputs": [],
   "source": [
    "print type(larm)"
   ]
  },
  {
   "cell_type": "markdown",
   "metadata": {},
   "source": [
    "Let us get some `Cartesian`-specific information about the task:"
   ]
  },
  {
   "cell_type": "code",
   "execution_count": null,
   "metadata": {},
   "outputs": [],
   "source": [
    "print 'Task distal link is', larm.getDistalLink()\n",
    "print 'Task base link is', larm.getBaseLink()\n",
    "print 'Task control mode is', larm.getControlMode()\n",
    "print 'Task state is', larm.getTaskState()\n",
    "print 'Task current reference is \\n', larm.getPoseReference()[0] # [0] for pose, [1] for velocity\n"
   ]
  },
  {
   "cell_type": "markdown",
   "metadata": {},
   "source": [
    "**Note:** elements of SE3 (i.e. poses) are represented with the `Affine3` type, which is a binding for `Eigen::Affine3d`.\n",
    "\n",
    "## Sending references (point-to-point)\n",
    "The client API makes it easy to send a robot link to desired pose, possibly passing via\n",
    "specified waypoints. By default, the commanded trajectory is a quintic spline stopping at\n",
    "each waypoint. Internally, the client used the `reach` ROS action to command the motion.\n",
    "\n",
    "### Move-to-target action\n",
    "Let us now send a target pose to our task. We will tell the hand to go 0.3m forward in 3.0 seconds."
   ]
  },
  {
   "cell_type": "code",
   "execution_count": null,
   "metadata": {},
   "outputs": [],
   "source": [
    "cli.update() # to update the task curren pose reference\n",
    "Tref, _, _ = larm.getPoseReference() # just return the pose ref, skip vel & acc\n",
    "print Tref\n",
    "Tref.translation_ref()[0] += 0.3\n",
    "time = 3.0\n",
    "larm.setPoseTarget(Tref, time)\n",
    "larm.waitReachCompleted(10.0) # blocks till action is completed (or timeout has passed)"
   ]
  },
  {
   "cell_type": "markdown",
   "metadata": {},
   "source": [
    "The robot in Rviz should move accordingly. Updating the client and retrieving the pose\n",
    "reference will confirm that the reference has infact advamced 0.3m along the x-axis.\n",
    "**TBD check Com did not move!**"
   ]
  },
  {
   "cell_type": "code",
   "execution_count": null,
   "metadata": {},
   "outputs": [],
   "source": [
    "cli.update()\n",
    "Tref, _, _ = larm.getPoseReference() # just return the pose ref, skip vel & acc\n",
    "print Tref"
   ]
  },
  {
   "cell_type": "markdown",
   "metadata": {},
   "source": [
    "### Specifying waypoints\n",
    "To specify waypoints, you must create a list of `pyci.WayPoint` objects, each containing a frame (of type `Affine3`) and the time relative to the start of the trajectory. For instance:"
   ]
  },
  {
   "cell_type": "code",
   "execution_count": null,
   "metadata": {},
   "outputs": [],
   "source": [
    "waypoints = [] # start from an empty list\n",
    "\n",
    "\n",
    "# first waypoint\n",
    "wp = pyci.WayPoint()\n",
    "wp.frame.translation = [0.1, 0.4, 0]\n",
    "wp.frame.quaternion = [0, 0, 0, 1]\n",
    "wp.time = 2.0\n",
    "waypoints.append(wp)\n",
    "\n",
    "# second waypoint\n",
    "wp = pyci.WayPoint()\n",
    "wp.frame.translation = [0.4, 0.4, 0]\n",
    "wp.frame.quaternion = [0, -1, 0, 1]\n",
    "wp.time = 4.0\n",
    "waypoints.append(wp)\n",
    "\n",
    "# third waypoint\n",
    "wp = pyci.WayPoint()\n",
    "wp.frame.translation = [0.1, 0.2, 0]\n",
    "wp.frame.quaternion = [0, 0, 0, 1]\n",
    "wp.time = 6.0\n",
    "waypoints.append(wp)\n",
    "\n",
    "larm.setWayPoints(waypoints) # this sends the action goal\n",
    "larm.waitReachCompleted(10.0) # blocks till action is completed (or timeout has passed)"
   ]
  },
  {
   "cell_type": "markdown",
   "metadata": {},
   "source": [
    "As previously seen, each `Task` has an `ActivationState` property, which is an enum taking either the `Enabled` or `Disabled` value. Disabling a Task effectively removes it from the control problem. To see this, we can repeat the previous motion with the right hand task disabled."
   ]
  },
  {
   "cell_type": "code",
   "execution_count": null,
   "metadata": {},
   "outputs": [],
   "source": [
    "rarm = cli.getTask('right_hand')\n",
    "\n",
    "rarm.setActivationState(pyci.ActivationState.Disabled)"
   ]
  },
  {
   "cell_type": "code",
   "execution_count": null,
   "metadata": {},
   "outputs": [],
   "source": [
    "larm.setWayPoints(waypoints)\n",
    "# blocks till action is completed (or timeout has passed)"
   ]
  },
  {
   "cell_type": "markdown",
   "metadata": {},
   "source": [
    "The right hand does not keep its specified pose anymore (leading to self-collisions in this case).\n",
    "Let us re-enable the right hand task."
   ]
  },
  {
   "cell_type": "code",
   "execution_count": null,
   "metadata": {},
   "outputs": [],
   "source": [
    "rarm.setActivationState(pyci.ActivationState.Enabled)"
   ]
  },
  {
   "cell_type": "markdown",
   "metadata": {},
   "source": [
    "## Sending continuous references\n",
    "Very often, Cartesian references must be sent continuously, and our controller is supposed to track them in an \n",
    "**online** fashion. This is done by publishing on the `reference` ROS topic. The Python Client library relieves us from the burden of opening all the required topics for all tasks, and directly provides this functionality through a uniform API. Moreover, ready-to-use interactive markers are generated as well, which are very useful to validate and tune a stack of tasks.\n",
    "\n",
    "### Using interactive markers\n",
    "In the Rviz left panel, enable the `InteractiveMarkers` checkbox. A marker will appear close to the left hand. Expand the marker widget, and use the `Update topic` spinbox to change the marker topic to the one of `right_hand`."
   ]
  },
  {
   "cell_type": "markdown",
   "metadata": {},
   "source": [
    "Good! Now, right-click on the marker, and select `Continuous ctrl`. This will enable the publishing to the `reference` topic. If you move the marker around, you will see how the controller tries to track the required motion."
   ]
  },
  {
   "cell_type": "markdown",
   "metadata": {},
   "source": [
    "If you move the marker fast enough, you'll notice some delay in the tracking. This is due to two different reasons:\n",
    " \n",
    " - value of the `lambda` feedback gain\n",
    " - safety limits settings"
   ]
  },
  {
   "cell_type": "markdown",
   "metadata": {},
   "source": [
    "### Safety limits\n",
    "By default, CartesIO applies velocity and acceleration limits to your references, as a form of safety feature.\n",
    "You can query the default values for such limits through the API:"
   ]
  },
  {
   "cell_type": "code",
   "execution_count": null,
   "metadata": {},
   "outputs": [],
   "source": [
    "rarm.getVelocityLimits() # linear part (m s^-1) and angular part (rad s^-1)"
   ]
  },
  {
   "cell_type": "code",
   "execution_count": null,
   "metadata": {},
   "outputs": [],
   "source": [
    "rarm.getAccekerationLimits() # linear part (m s^-2) and angular part (rad s^-2)"
   ]
  },
  {
   "cell_type": "markdown",
   "metadata": {},
   "source": [
    "Let us set these numbers to crazy-high values to get rid of safety features! Tracking should now be more responsive."
   ]
  },
  {
   "cell_type": "code",
   "execution_count": null,
   "metadata": {},
   "outputs": [],
   "source": [
    "rarm.setVelocityLimits(100, 100)\n",
    "rarm.setAccelerationLimits(10000, 10000)"
   ]
  },
  {
   "cell_type": "markdown",
   "metadata": {},
   "source": [
    "Still, the value of the feedback gain `lambda` can limit the tracking fidelity if set too low. Let's query the default value (which is set inside the `problem_description`):"
   ]
  },
  {
   "cell_type": "code",
   "execution_count": null,
   "metadata": {},
   "outputs": [],
   "source": [
    "rarm.getLambda()"
   ]
  },
  {
   "cell_type": "markdown",
   "metadata": {},
   "source": [
    "Let's set it all the way to the max!"
   ]
  },
  {
   "cell_type": "code",
   "execution_count": null,
   "metadata": {},
   "outputs": [],
   "source": [
    "rarm.setLambda(1.0)\n",
    "rarm.getLambda()\n"
   ]
  },
  {
   "cell_type": "markdown",
   "metadata": {},
   "source": [
    "Now the tracking is veeery responsive, being limited only by the velocity limits, and by the loop frequency of the CartesIO ROS Server Node (defaults to 100 Hz)"
   ]
  },
  {
   "cell_type": "markdown",
   "metadata": {},
   "source": [
    "### Setting references from the code\n",
    "Let us show how to do it through this simple code."
   ]
  },
  {
   "cell_type": "code",
   "execution_count": null,
   "metadata": {},
   "outputs": [],
   "source": [
    "import math\n",
    "import time\n",
    "\n",
    "cli.update()\n",
    "Tinit = Affine3()\n",
    "Tinit.translation = [0.1, 0.3, 0]\n",
    "Tinit.quaternion = [0, 0, 0, 1]\n",
    "\n",
    "t = 0.0\n",
    "dt = 0.01\n",
    "period = 3.0\n",
    "radius = 0.12\n",
    "\n",
    "while t < 3*period:\n",
    "    \n",
    "    delta_x = radius * math.cos(t*2.0*math.pi/period) - radius # + math.pi/2.0)\n",
    "    delta_y = radius * math.sin(t*2.0*math.pi/period)\n",
    "    Tref = Tinit.copy()\n",
    "    Tref.translation_ref()[0] += delta_x\n",
    "    Tref.translation_ref()[1] += delta_y\n",
    "    \n",
    "    larm.setPoseReference(Tref) # this publishes the reference\n",
    "    \n",
    "    t += dt\n",
    "    time.sleep(dt)\n",
    "    \n",
    "    \n",
    "    \n",
    "    "
   ]
  },
  {
   "cell_type": "code",
   "execution_count": null,
   "metadata": {},
   "outputs": [],
   "source": []
  },
  {
   "cell_type": "code",
   "execution_count": null,
   "metadata": {},
   "outputs": [],
   "source": []
  }
 ],
 "metadata": {
  "kernelspec": {
   "display_name": "Python 2",
   "language": "python",
   "name": "python2"
  },
  "language_info": {
   "codemirror_mode": {
    "name": "ipython",
    "version": 2
   },
   "file_extension": ".py",
   "mimetype": "text/x-python",
   "name": "python",
   "nbconvert_exporter": "python",
   "pygments_lexer": "ipython2",
   "version": "2.7.12"
  }
 },
 "nbformat": 4,
 "nbformat_minor": 2
}
